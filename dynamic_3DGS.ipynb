{
 "cells": [
  {
   "cell_type": "code",
   "execution_count": 1,
   "metadata": {},
   "outputs": [],
   "source": [
    "import numpy as np\n",
    "import json\n",
    "import pandas as pd\n",
    "import os, glob, re, shutil\n",
    "import PIL.ExifTags as ExifTags\n",
    "import PIL.Image as Image\n",
    "from PIL import ImageOps\n",
    "import numpy as np\n",
    "from tqdm import tqdm\n",
    "from typing import Union\n",
    "# import cv2"
   ]
  },
  {
   "cell_type": "code",
   "execution_count": 3,
   "metadata": {
    "vscode": {
     "languageId": "shellscript"
    }
   },
   "outputs": [
    {
     "name": "stdout",
     "output_type": "stream",
     "text": [
      "(194, 17)\n",
      "[-3.80442207e-02  6.35684066e-01 -7.71011287e-01 -3.00268179e+00\n",
      "  3.28600000e+03  9.83836581e-01  1.58935283e-01  8.24933848e-02\n",
      "  1.40077264e+00  4.94600000e+03  1.74980627e-01 -7.55410712e-01\n",
      " -6.31455807e-01 -2.22840056e+00  4.64950598e+03  3.46747820e+00\n",
      "  5.80139520e+01]\n",
      "[ 2.25899129e-01  6.09137784e-01 -7.60210986e-01 -3.04942107e+00\n",
      "  3.28600000e+03  9.04358729e-01  1.58927312e-01  3.96077517e-01\n",
      "  1.68893054e+00  4.94600000e+03  3.62084069e-01 -7.76977007e-01\n",
      " -5.14977531e-01 -2.21220869e+00  4.64950598e+03  3.63105887e+00\n",
      "  6.10263076e+01]\n",
      "[ 1.48151567e-02  4.39289825e-01 -8.98223224e-01 -3.51985545e+00\n",
      "  3.28600000e+03  9.60731350e-01  2.42684359e-01  1.34534659e-01\n",
      "  1.31549645e+00  4.94600000e+03  2.77084434e-01 -8.64944363e-01\n",
      " -4.18444100e-01 -1.36722490e+00  4.64950598e+03  3.66833755e+00\n",
      "  5.63840067e+01]\n",
      "[ 3.45445768e-01  4.70172859e-01 -8.12160516e-01 -3.59115626e+00\n",
      "  3.28600000e+03  8.53859893e-01  2.01583967e-01  4.79882473e-01\n",
      "  1.49892987e+00  4.94600000e+03  3.89346253e-01 -8.59244661e-01\n",
      " -3.31825418e-01 -1.35663983e+00  4.64950598e+03  3.80458571e+00\n",
      "  5.84879229e+01]\n",
      "[-5.13117803e-03  1.72963997e-01 -9.84914781e-01 -3.70678300e+00\n",
      "  3.28600000e+03  9.70247001e-01  2.39278691e-01  3.69657248e-02\n",
      "  1.06911733e+00  4.94600000e+03  2.42062859e-01 -9.55420935e-01\n",
      " -1.69045581e-01 -2.11558582e-01  4.64950598e+03  3.56299922e+00\n",
      "  4.87392896e+01]\n",
      "[ 4.09048267e-01  1.88173918e-01 -8.92899822e-01 -3.76467607e+00\n",
      "  3.28600000e+03  8.65886542e-01  2.28741974e-01  4.44879317e-01\n",
      "  1.19402364e+00  4.94600000e+03  2.87958352e-01 -9.55127052e-01\n",
      " -6.93707550e-02 -1.94734175e-01  4.64950598e+03  3.58161164e+00\n",
      "  4.87714074e+01]\n",
      "[ 5.78351486e-02 -9.37482134e-02 -9.93914668e-01 -3.56042321e+00\n",
      "  3.28600000e+03  9.74788789e-01  2.20214290e-01  3.59511328e-02\n",
      "  7.70398039e-01  4.94600000e+03  2.15503859e-01 -9.70936115e-01\n",
      "  1.04120834e-01  9.90376751e-01  4.64950598e+03  3.14017487e+00\n",
      "  2.99893346e+01]\n",
      "[ 4.30988535e-01 -1.18382821e-01 -8.94558209e-01 -3.64459922e+00\n",
      "  3.28600000e+03  8.93035859e-01  1.98085039e-01  4.04041176e-01\n",
      "  9.49343179e-01  4.94600000e+03  1.29367063e-01 -9.73009674e-01\n",
      "  1.91092486e-01  1.04653764e+00  4.64950598e+03  3.24471236e+00\n",
      "  1.93132581e+01]\n",
      "[ 2.09439801e-02 -3.50780113e-01 -9.36223618e-01 -3.21045153e+00\n",
      "  3.28600000e+03  9.74622779e-01  2.15912740e-01 -5.90942315e-02\n",
      "  4.28802251e-01  4.94600000e+03  2.22871688e-01 -9.11227195e-01\n",
      "  3.46400360e-01  2.05007202e+00  4.64950598e+03  2.92657850e+00\n",
      "  2.91652847e+01]\n",
      "[ 3.90668446e-01 -3.30238546e-01 -8.59255880e-01 -3.24601657e+00\n",
      "  3.28600000e+03  9.17086187e-01  2.20310321e-01  3.32289464e-01\n",
      "  6.48125801e-01  4.94600000e+03  7.95681490e-02 -9.17826708e-01\n",
      "  3.88925500e-01  2.14831676e+00  4.64950598e+03  3.06985445e+00\n",
      "  2.77658107e+01]\n"
     ]
    }
   ],
   "source": [
    "# same with .npy file just no \"data\" key\n",
    "file_path = '/cs/student/projects4/ml/2023/asrivast/datasets/bicycle/poses_bounds.npy'\n",
    "# load the .npy data\n",
    "data = np.load(file_path)\n",
    "print(data.shape)\n",
    "\n",
    "for i in range(0, 10):\n",
    "    print(data[i])"
   ]
  },
  {
   "cell_type": "markdown",
   "metadata": {},
   "source": [
    "# Reading the .ply file from COLMAP and converting it to .npz\n",
    "\n",
    "format of numpy array to be stored in .npz file\n",
    "* (N, 7) where N is total number of points\n",
    "* 0-2 x,y,z\n",
    "* 3-5 R,G,B\n",
    "* 7 all ones"
   ]
  },
  {
   "cell_type": "code",
   "execution_count": 12,
   "metadata": {},
   "outputs": [
    {
     "name": "stdout",
     "output_type": "stream",
     "text": [
      "x: float32, y: float32, z: float32, r: uint8, g: uint8, b: uint8, seven: float32\n",
      "x: float32, y: float32, z: float32, r: float32, g: float32, b: float32, seven: float32\n",
      "Saved init_pt_cld_ours.npz\n"
     ]
    }
   ],
   "source": [
    "from plyfile import PlyData, PlyElement \n",
    "\n",
    "ply_file= \"/cs/student/projects4/ml/2023/asrivast/datasets/portsmouth_video/frames/sparse_000001/0/points3D.ply\"\n",
    "with open(ply_file, 'rb') as f:\n",
    "    ply_data: PlyData = PlyData.read(f)\n",
    "    x = ply_data['vertex']['x']\n",
    "    y = ply_data['vertex']['y']\n",
    "    z = ply_data['vertex']['z']\n",
    "    r = ply_data['vertex']['red']\n",
    "    g = ply_data['vertex']['green']\n",
    "    b = ply_data['vertex']['blue']\n",
    "    seven= np.zeros(x.shape[0], dtype=np.float32)\n",
    "\n",
    "    # print data types of each\n",
    "    print(f\"x: {x.dtype}, y: {y.dtype}, z: {z.dtype}, r: {r.dtype}, g: {g.dtype}, b: {b.dtype}, seven: {seven.dtype}\")\n",
    "\n",
    "    # need to change the dtype of R G B to float32 as well\n",
    "    r = r.astype(np.float32)/255\n",
    "    g = g.astype(np.float32)/255\n",
    "    b = b.astype(np.float32)/255\n",
    "\n",
    "    print(f\"x: {x.dtype}, y: {y.dtype}, z: {z.dtype}, r: {r.dtype}, g: {g.dtype}, b: {b.dtype}, seven: {seven.dtype}\")\n",
    "    # stack them together\n",
    "    points = np.vstack((x, y, z, r, g, b, seven)).T\n",
    "    \n",
    "    # now save it as a .npz file with a key \"data\"\n",
    "    npz_file= \"init_pt_cld_ours.npz\"\n",
    "    npz= {}\n",
    "    np.savez_compressed(npz_file, data=points)\n",
    "    print(f\"Saved {npz_file}\")\n"
   ]
  },
  {
   "cell_type": "markdown",
   "metadata": {},
   "source": [
    "# Reading the .npz file and converting it to .ply file"
   ]
  },
  {
   "cell_type": "code",
   "execution_count": 13,
   "metadata": {},
   "outputs": [
    {
     "name": "stdout",
     "output_type": "stream",
     "text": [
      "(8304, 7)\n",
      "float32 float32 float32\n",
      "RGB_SCALE: 255\n"
     ]
    }
   ],
   "source": [
    "import numpy as np\n",
    "from plyfile import PlyData, PlyElement\n",
    "\n",
    "# Assuming 'points' is your numpy array of shape (N, 7)\n",
    "# Load or define your numpy array here if needed\n",
    "file_path = 'init_pt_cld_ours.npz'\n",
    "\n",
    "# Load the .npz file\n",
    "data = np.load(file_path)\n",
    "print(data['data'].shape,)\n",
    "print(data['data'][:,0].dtype, data['data'][:,3].dtype, data['data'][:,6].dtype)\n",
    "points = data['data']\n",
    "\n",
    "# Extract the first 6 columns for x, y, z, R, G, B\n",
    "vertices_data = points[:, :6]\n",
    "\n",
    "# # Convert to a list of tuples, each tuple representing a vertex\n",
    "vertices_list = [tuple(vertex) for vertex in vertices_data]\n",
    "# scale and convert to uint all RGB values\n",
    "RGB_SCALE = 1 if np.max(vertices_data[:,3:6]) > 1 else 255\n",
    "print(f\"RGB_SCALE: {RGB_SCALE}\")\n",
    "vertices_list = [(x, y, z, int(r* RGB_SCALE), int(g* RGB_SCALE), int(b*RGB_SCALE)) for x, y, z, r, g, b in vertices_list]\n",
    "\n",
    "# # Define the vertex element\n",
    "vertex_element = PlyElement.describe(np.array(vertices_list, dtype=[('x', 'f4'), ('y', 'f4'), ('z', 'f4'), ('red', 'u1'), ('green', 'u1'), ('blue', 'u1')]), 'vertex')\n",
    "\n",
    "# # Create the PlyData object\n",
    "ply_data = PlyData([vertex_element])\n",
    "\n",
    "# # Save the .ply file\n",
    "# ply_file_path = \"output.ply\"\n",
    "# ply_data.write(ply_file_path)\n",
    "\n",
    "# print(f\"PLY file saved to {ply_file_path}\")"
   ]
  },
  {
   "cell_type": "code",
   "execution_count": 58,
   "metadata": {},
   "outputs": [
    {
     "name": "stdout",
     "output_type": "stream",
     "text": [
      "zeros: 58964.0, ones: 135141.0 Total: 194105.0\n"
     ]
    }
   ],
   "source": [
    "zeros= points.shape[0]- np.sum(points[:,6])\n",
    "ones= np.sum(points[:,6])\n",
    "print(f\"zeros: {zeros}, ones: {ones} Total: {zeros+ones}\")"
   ]
  },
  {
   "cell_type": "code",
   "execution_count": 33,
   "metadata": {
    "vscode": {
     "languageId": "shellscript"
    }
   },
   "outputs": [
    {
     "name": "stdout",
     "output_type": "stream",
     "text": [
      "(8304, 7)\n",
      "0.04604692384600639 <class 'numpy.float64'>\n",
      "0.634263813495636 <class 'numpy.float64'>\n",
      "-0.1974332332611084 <class 'numpy.float64'>\n",
      "238.0 <class 'numpy.float64'> 60690.0\n",
      "218.0 <class 'numpy.float64'> 55590.0\n",
      "217.0 <class 'numpy.float64'> 55335.0\n"
     ]
    }
   ],
   "source": [
    "\n",
    "# Specify the path to the .npz file\n",
    "file_path = '/cs/student/projects4/ml/2023/asrivast/datasets/dynamic_3DGS/data/portsmouth/init_pt_cld.npz'\n",
    "\n",
    "# Load the .npz file\n",
    "data = np.load(file_path)\n",
    "print(data['data'].shape)\n",
    "\n",
    "for i in range(0, 1):\n",
    "    x,y,z = data['data'][i][0:3]\n",
    "    R,G,B = data['data'][i][3:6]\n",
    "    # pritn values and their data types\n",
    "    print(x, type(x))\n",
    "    print(y, type(y))\n",
    "    print(z, type(z))\n",
    "    print(R, type(R), R*255)\n",
    "    print(G, type(G), G*255)\n",
    "    print(B, type(B), B*255)\n"
   ]
  },
  {
   "cell_type": "markdown",
   "metadata": {},
   "source": [
    "# Reading points3D.bin and convert it to .npz"
   ]
  },
  {
   "cell_type": "code",
   "execution_count": 6,
   "metadata": {},
   "outputs": [],
   "source": [
    "import utils_data_making\n",
    "import utils_colmap"
   ]
  },
  {
   "cell_type": "code",
   "execution_count": 9,
   "metadata": {},
   "outputs": [
    {
     "name": "stdout",
     "output_type": "stream",
     "text": [
      "Point cloud saved\n"
     ]
    }
   ],
   "source": [
    "pt_cld_path = os.path.join(\"/cs/student/projects4/ml/2023/asrivast/datasets/portsmouth_video/frames/sparse_000001/0/points3D.bin\")\n",
    "xyzs, rgbs, _ = utils_colmap.read_points3D_binary(pt_cld_path)\n",
    "seg = np.ones_like(xyzs[:, 0])[:, None]   # Always static for now, segmentation always 1\n",
    "rgbs = rgbs / 255.0\n",
    "pt_cld = dict()\n",
    "pt_cld = np.concatenate((xyzs, rgbs, seg), axis=1).tolist()\n",
    "# if not os.path.exists(os.path.join(\".\")):\n",
    "#     os.makedirs(os.path.join(args.output_path, args.dataset_name))\n",
    "np.savez(os.path.join('init_pt_cld_other.npz'), data=pt_cld)\n",
    "print('Point cloud saved')"
   ]
  },
  {
   "cell_type": "markdown",
   "metadata": {},
   "source": [
    "# Reading the .bin files from COLMAP and converting it to train_meta.json"
   ]
  },
  {
   "cell_type": "markdown",
   "metadata": {},
   "source": [
    "## First we see what kind of file is train_meta.json"
   ]
  },
  {
   "cell_type": "code",
   "execution_count": 6,
   "metadata": {},
   "outputs": [
    {
     "data": {
      "text/plain": [
       "[3, 5]"
      ]
     },
     "execution_count": 6,
     "metadata": {},
     "output_type": "execute_result"
    }
   ],
   "source": [
    "a= [1,2,3,4,5,6,7]\n",
    "# get third and fifth element\n",
    "b= [a[2], a[4]]\n",
    "b"
   ]
  },
  {
   "cell_type": "code",
   "execution_count": 19,
   "metadata": {},
   "outputs": [
    {
     "name": "stdout",
     "output_type": "stream",
     "text": [
      "Loaded /cs/student/projects4/ml/2023/asrivast/datasets/dynamic_3DGS/data/boxes_small/train_meta_org.json\n",
      "w: 640\n",
      "h: 360\n",
      "k: (150, 27, 3, 3)\n",
      "w2c: (150, 27, 4, 4)\n",
      "fn: (150, 27)\n",
      "cam_id: (150, 27)\n",
      "#####################\n",
      "(150, 2, 3, 3)\n",
      "(150, 2, 4, 4)\n",
      "(150, 2)\n",
      "(150, 2)\n",
      "Saved test_meta.json\n"
     ]
    }
   ],
   "source": [
    "meta_json= \"/cs/student/projects4/ml/2023/asrivast/datasets/dynamic_3DGS/data/boxes_small/train_meta_org.json\"\n",
    "with open(meta_json, 'r') as f:\n",
    "    meta_dict= json.load(f)\n",
    "    print(f\"Loaded {meta_json}\")\n",
    "    for key in meta_dict.keys():\n",
    "        value= np.array(meta_dict[key])\n",
    "        if value.shape == ():\n",
    "            print(f\"{key}: {value}\")\n",
    "        else:\n",
    "            print(f\"{key}: {value.shape}\")\n",
    "\n",
    "    print(\"#####################\")\n",
    "    k_np= np.array(meta_dict['k'])\n",
    "    k_np= k_np[:,(0, -1), :,:]\n",
    "    print(k_np.shape)\n",
    "\n",
    "    w2c_np= np.array(meta_dict['w2c'])\n",
    "    w2c_np= w2c_np[:,(0, -1), :,:]\n",
    "    print(w2c_np.shape)\n",
    "\n",
    "    fn_np= np.array(meta_dict['fn'])\n",
    "    fn_np= fn_np[:,(0, -1)]\n",
    "    print(fn_np.shape)\n",
    "\n",
    "    cam_id_np= np.array(meta_dict['cam_id'])\n",
    "    cam_id_np= cam_id_np[:,(0, -1)]\n",
    "    print(cam_id_np.shape)\n",
    "\n",
    "    new_meta_dict= meta_dict.copy()\n",
    "    new_meta_dict['k']= k_np.tolist()\n",
    "    new_meta_dict['w2c']= w2c_np.tolist()\n",
    "    new_meta_dict['fn']= fn_np.tolist()\n",
    "    new_meta_dict['cam_id']= cam_id_np.tolist()\n",
    "    with open(\"test_meta.json\", 'w') as f:\n",
    "        json.dump(new_meta_dict, f, indent=4)\n",
    "        print(f\"Saved test_meta.json\")"
   ]
  },
  {
   "cell_type": "markdown",
   "metadata": {},
   "source": [
    "# from .bin file"
   ]
  },
  {
   "cell_type": "code",
   "execution_count": 133,
   "metadata": {},
   "outputs": [
    {
     "name": "stdout",
     "output_type": "stream",
     "text": [
      "{1: Camera(id=1, model='PINHOLE', width=1220, height=994, params=array([1928.96714337, 1920.45748488,  610.        ,  497.        ]))}\n",
      "<class 'dict'>\n",
      "<class 'read_write_model.Camera'>\n",
      "Camera(id=1, model='PINHOLE', width=1220, height=994, params=array([1928.96714337, 1920.45748488,  610.        ,  497.        ]))\n"
     ]
    }
   ],
   "source": [
    "import read_write_model\n",
    "\n",
    "cams= read_write_model.read_cameras_binary(\"/cs/student/projects4/ml/2023/asrivast/datasets/portsmouth_video/frames/sparse_000001/0/cameras.bin\")\n",
    "print(cams)\n",
    "print(type(cams))\n",
    "print(type(cams[1]))\n",
    "print(cams[1])"
   ]
  },
  {
   "cell_type": "code",
   "execution_count": 134,
   "metadata": {},
   "outputs": [
    {
     "name": "stdout",
     "output_type": "stream",
     "text": [
      "COLMAP index 1 cam-005_000001.jpg CAM num 5\n",
      "COLMAP index 2 cam-002_000001.jpg CAM num 2\n",
      "COLMAP index 3 cam-006_000001.jpg CAM num 6\n",
      "COLMAP index 4 cam-007_000001.jpg CAM num 7\n",
      "COLMAP index 5 cam-001_000001.jpg CAM num 1\n",
      "COLMAP index 6 cam-003_000001.jpg CAM num 3\n",
      "COLMAP index 7 cam-008_000001.jpg CAM num 8\n",
      "COLMAP index 8 cam-011_000001.jpg CAM num 11\n",
      "COLMAP index 9 cam-010_000001.jpg CAM num 10\n",
      "COLMAP index 10 cam-009_000001.jpg CAM num 9\n",
      "COLMAP index 11 cam-004_000001.jpg CAM num 4\n",
      "COLMAP index 12 cam-012_000001.jpg CAM num 12\n",
      "COLMAP index 13 cam-013_000001.jpg CAM num 13\n",
      "COLMAP index 14 cam-014_000001.jpg CAM num 14\n",
      "COLMAP index 15 cam-015_000001.jpg CAM num 15\n",
      "COLMAP index 16 cam-021_000001.jpg CAM num 21\n",
      "COLMAP index 17 cam-022_000001.jpg CAM num 22\n",
      "COLMAP index 18 cam-016_000001.jpg CAM num 16\n",
      "COLMAP index 19 cam-017_000001.jpg CAM num 17\n",
      "COLMAP index 20 cam-018_000001.jpg CAM num 18\n",
      "COLMAP index 21 cam-019_000001.jpg CAM num 19\n",
      "COLMAP index 22 cam-020_000001.jpg CAM num 20\n",
      "COLMAP index 23 cam-024_000001.jpg CAM num 24\n",
      "COLMAP index 24 cam-023_000001.jpg CAM num 23\n",
      "COLMAP index 25 cam-025_000001.jpg CAM num 25\n",
      "COLMAP index 26 cam-026_000001.jpg CAM num 26\n",
      "COLMAP index 27 cam-027_000001.jpg CAM num 27\n",
      "COLMAP index 28 cam-029_000001.jpg CAM num 29\n",
      "COLMAP index 29 cam-028_000001.jpg CAM num 28\n",
      "COLMAP index 30 cam-030_000001.jpg CAM num 30\n",
      "COLMAP index 31 cam-031_000001.jpg CAM num 31\n",
      "COLMAP index 32 cam-032_000001.jpg CAM num 32\n"
     ]
    }
   ],
   "source": [
    "images= read_write_model.read_images_binary(\"/cs/student/projects4/ml/2023/asrivast/datasets/portsmouth_video/frames/sparse_000001/0/images.bin\")\n",
    "# total number of keys= total number of images\n",
    "cam_id_map = {} # cameran_num : COLMAP index\n",
    "for COLMAP_index in images.keys():\n",
    "    camera_num= int(re.split(\"[-_]\", images[COLMAP_index].name)[1])\n",
    "    cam_id_map[camera_num]= COLMAP_index\n",
    "    print(\"COLMAP index\", COLMAP_index, images[COLMAP_index].name, \"CAM num\", camera_num)"
   ]
  },
  {
   "cell_type": "code",
   "execution_count": 147,
   "metadata": {},
   "outputs": [],
   "source": [
    "train_cams= [i for i in range(1, 33)] # all cameras\n",
    "train_cams= [cam_id_map[cam] for cam in train_cams]\n",
    "\n",
    "\n",
    "test_cams= [2,15,25,30] # cam 2 and 19\n",
    "test_cams= [cam_id_map[cam] for cam in test_cams]\n",
    "\n",
    "# remove test cams from train cams\n",
    "train_cams= [cam for cam in train_cams if cam not in test_cams]\n",
    "\n",
    "\n",
    "k_np= np.zeros((len(test_cams),3,3))\n",
    "w2c_np= np.zeros((len(test_cams),4,4))\n",
    "fn = []\n",
    "cam_ids_np= np.zeros(len(test_cams), dtype=np.uint)\n",
    "\n",
    "\n",
    "for i, image_id in enumerate(test_cams):\n",
    "    \n",
    "    img_name= images[image_id].name\n",
    "    cam_obj= cams[images[image_id].camera_id]\n",
    "\n",
    "    q_vec= images[image_id].qvec\n",
    "    t_vec= images[image_id].tvec\n",
    "\n",
    "    w= cam_obj.width\n",
    "    h= cam_obj.height\n",
    "\n",
    "    fx= cam_obj.params[0]\n",
    "    fy= cam_obj.params[1]\n",
    "    cx= cam_obj.params[2]\n",
    "    cy= cam_obj.params[3]\n",
    "\n",
    "\n",
    "    k= np.array([[fx, 0, cx], [0, fy, cy], [0, 0, 1]])\n",
    "    w2c= np.eye(4)\n",
    "    w2c[:3,:3]= read_write_model.qvec2rotmat(q_vec)\n",
    "    w2c[:3,3]= t_vec\n",
    "\n",
    "    k_np[i]= k\n",
    "    w2c_np[i]= w2c\n",
    "    \n",
    "\n",
    "    fn.append(img_name)\n",
    "    cam_ids_np[i]= image_id\n",
    "\n",
    "# for image_obj in images:\n",
    "#     print(type(images[image_obj]))"
   ]
  },
  {
   "cell_type": "code",
   "execution_count": 148,
   "metadata": {},
   "outputs": [
    {
     "name": "stdout",
     "output_type": "stream",
     "text": [
      "k  (4, 3, 3)\n",
      "w2c  (4, 4, 4)\n",
      "fn  4\n",
      "cam_id (4,)\n"
     ]
    }
   ],
   "source": [
    "# print shapes of all arrays to which we added in previous steps\n",
    "print(\"k \", k_np.shape)\n",
    "print(\"w2c \", w2c_np.shape)\n",
    "print(\"fn \", len(fn))\n",
    "print(\"cam_id\", cam_ids_np.shape)\n",
    "\n",
    "# print"
   ]
  },
  {
   "cell_type": "code",
   "execution_count": 149,
   "metadata": {},
   "outputs": [
    {
     "data": {
      "text/plain": [
       "['cam-002_000001.jpg',\n",
       " 'cam-015_000001.jpg',\n",
       " 'cam-025_000001.jpg',\n",
       " 'cam-030_000001.jpg']"
      ]
     },
     "execution_count": 149,
     "metadata": {},
     "output_type": "execute_result"
    }
   ],
   "source": [
    "fn"
   ]
  },
  {
   "cell_type": "code",
   "execution_count": 150,
   "metadata": {},
   "outputs": [],
   "source": [
    "# now add a dimension in beggining in each of them and repead them total_frames times\n",
    "total_frames= 199\n",
    "k_np_full = np.repeat(k_np[np.newaxis, ...], total_frames, axis=0)\n",
    "w2c_np_full = np.repeat(w2c_np[np.newaxis, ...], total_frames, axis=0)\n",
    "\n",
    "\n",
    "fn_full= []\n",
    "for i in range(1, total_frames+1):\n",
    "    frame_num= str(i).zfill(6)\n",
    "    fn_new= fn.copy()\n",
    "    for i,_ in enumerate(fn_new):\n",
    "        cam_num= int(re.split(\"[-_]\", _)[1])\n",
    "        fn_new[i]= fn_new[i].replace(\"000001\", frame_num)\n",
    "        fn_new[i]= f\"{cam_num}/{fn_new[i][8:-4]}.JPG\"\n",
    "\n",
    "        \n",
    "    fn_full.append(fn_new)\n",
    "\n",
    "cam_ids_np_full= np.repeat(cam_ids_np[np.newaxis, ...], total_frames, axis=0)"
   ]
  },
  {
   "cell_type": "code",
   "execution_count": 151,
   "metadata": {},
   "outputs": [
    {
     "name": "stdout",
     "output_type": "stream",
     "text": [
      "k  (199, 4, 3, 3)\n",
      "w2c  (199, 4, 4, 4)\n",
      "fn  (199, 4)\n",
      "cam_id (199, 4)\n"
     ]
    }
   ],
   "source": [
    "# print shapes along with names agains\n",
    "print(\"k \", k_np_full.shape)\n",
    "print(\"w2c \", w2c_np_full.shape)\n",
    "print(\"fn \", np.array(fn_full).shape)\n",
    "print(\"cam_id\", cam_ids_np_full.shape)\n"
   ]
  },
  {
   "cell_type": "code",
   "execution_count": 152,
   "metadata": {},
   "outputs": [
    {
     "data": {
      "text/plain": [
       "['2/000199.JPG', '15/000199.JPG', '25/000199.JPG', '30/000199.JPG']"
      ]
     },
     "execution_count": 152,
     "metadata": {},
     "output_type": "execute_result"
    }
   ],
   "source": [
    "fn_full[-1]"
   ]
  },
  {
   "cell_type": "code",
   "execution_count": 153,
   "metadata": {},
   "outputs": [
    {
     "name": "stdout",
     "output_type": "stream",
     "text": [
      "Saved /cs/student/projects4/ml/2023/asrivast/datasets/dynamic_3DGS/data/portsmouth/test_meta.json\n"
     ]
    }
   ],
   "source": [
    "meta_dict= {\"w\": 1220,\n",
    "            \"h\": 994,\n",
    "            \"k\": k_np_full.tolist(),\n",
    "            \"w2c\": w2c_np_full.tolist(),\n",
    "            \"fn\": fn_full,\n",
    "            \"cam_id\": cam_ids_np_full.tolist()}\n",
    "\n",
    "json_path= \"/cs/student/projects4/ml/2023/asrivast/datasets/dynamic_3DGS/data/portsmouth/test_meta.json\"\n",
    "with open(json_path, 'w') as meta_json:\n",
    "    json.dump(meta_dict, meta_json, indent=4)\n",
    "    print(f\"Saved {json_path}\")\n"
   ]
  },
  {
   "cell_type": "markdown",
   "metadata": {},
   "source": [
    "# transform.json from colmap2nerf.py"
   ]
  },
  {
   "cell_type": "code",
   "execution_count": 8,
   "metadata": {},
   "outputs": [
    {
     "name": "stdout",
     "output_type": "stream",
     "text": [
      "Loaded /cs/student/projects4/ml/2023/asrivast/Dynamic3DGaussians/transforms.json\n",
      "camera_angle_x: 0.612561364141283\n",
      "camera_angle_y: 0.5064733756797346\n",
      "fl_x: 1928.9671433700703\n",
      "fl_y: 1920.4574848758382\n",
      "k1: 0\n",
      "k2: 0\n",
      "k3: 0\n",
      "k4: 0\n",
      "p1: 0\n",
      "p2: 0\n",
      "is_fisheye: False\n",
      "cx: 610.0\n",
      "cy: 497.0\n",
      "w: 1220.0\n",
      "h: 994.0\n",
      "aabb_scale: 32\n",
      "frames: (32,)\n"
     ]
    }
   ],
   "source": [
    "meta_json= \"/cs/student/projects4/ml/2023/asrivast/Dynamic3DGaussians/transforms.json\"\n",
    "with open(meta_json, 'r') as f:\n",
    "    meta_dict= json.load(f)\n",
    "    print(f\"Loaded {meta_json}\")\n",
    "    for key in meta_dict.keys():\n",
    "        value= np.array(meta_dict[key])\n",
    "        if value.shape == ():\n",
    "            print(f\"{key}: {value}\")\n",
    "        else:\n",
    "            print(f\"{key}: {value.shape}\")"
   ]
  },
  {
   "cell_type": "code",
   "execution_count": 112,
   "metadata": {},
   "outputs": [
    {
     "name": "stdout",
     "output_type": "stream",
     "text": [
      "[[-0.71022167  0.4768192  -0.51790793  2.38413646]\n",
      " [ 0.13507749  0.81431994  0.56447951 -1.50049363]\n",
      " [ 0.69089742  0.33094788 -0.64275521  2.69671221]\n",
      " [ 0.          0.          0.          1.        ]]\n"
     ]
    }
   ],
   "source": [
    "bottom = np.array([0.0, 0.0, 0.0, 1.0]).reshape([1, 4])\n",
    "m = np.concatenate([np.concatenate([rot_mat, t_vec], 1), bottom], 0)\n",
    "c2w = np.linalg.inv(m)\n",
    "print(c2w)\n",
    "# cam2world= (-rot_mat.T)*(t_vec)\n",
    "# print(cam2world)"
   ]
  },
  {
   "cell_type": "markdown",
   "metadata": {},
   "source": [
    "# colmap2nerf.py detectron2"
   ]
  },
  {
   "cell_type": "code",
   "execution_count": 4,
   "metadata": {},
   "outputs": [],
   "source": [
    "from collections import namedtuple\n",
    "import detectron2\n",
    "from detectron2.config import get_cfg\n",
    "from detectron2 import model_zoo\n",
    "from detectron2.engine import DefaultPredictor\n"
   ]
  },
  {
   "cell_type": "code",
   "execution_count": 5,
   "metadata": {},
   "outputs": [
    {
     "data": {
      "text/plain": [
       "['person']"
      ]
     },
     "execution_count": 5,
     "metadata": {},
     "output_type": "execute_result"
    }
   ],
   "source": [
    "\n",
    "SCRIPTS_FOLDER = \".\"\n",
    "# make args as a named tuple\n",
    "CLI_args = namedtuple(\"CLI_args\", \"mask_categories\")  # see category2id.json for all categories\n",
    "args= CLI_args(mask_categories= [\"person\"])\n",
    "args.mask_categories"
   ]
  },
  {
   "cell_type": "code",
   "execution_count": 6,
   "metadata": {},
   "outputs": [],
   "source": [
    "\n",
    "category2id = json.load(open(os.path.join(SCRIPTS_FOLDER, \"category2id.json\"), \"r\"))\n",
    "mask_ids = [category2id[c] for c in args.mask_categories]\n",
    "\n",
    "cfg = get_cfg()\n",
    "# Add project-specific config (e.g., TensorMask) here if you're not running a model in detectron2's core library\n",
    "cfg.merge_from_file(model_zoo.get_config_file(\"COCO-InstanceSegmentation/mask_rcnn_R_50_FPN_3x.yaml\"))\n",
    "cfg.MODEL.ROI_HEADS.SCORE_THRESH_TEST = 0.5  # set threshold for this model\n",
    "# Find a model from detectron2's model zoo.\n",
    "cfg.MODEL.WEIGHTS = model_zoo.get_checkpoint_url(\"COCO-InstanceSegmentation/mask_rcnn_R_50_FPN_3x.yaml\")\n",
    "predictor = DefaultPredictor(cfg)\n"
   ]
  },
  {
   "cell_type": "code",
   "execution_count": 41,
   "metadata": {},
   "outputs": [
    {
     "name": "stdout",
     "output_type": "stream",
     "text": [
      "Total number of images: 6368 per camera 199\n"
     ]
    }
   ],
   "source": [
    "all_jpgs= glob.glob(\"/cs/student/projects4/ml/2023/asrivast/datasets/dynamic_3DGS/data/portsmouth/ims/**/*.JPG\", recursive=True)\n",
    "print(f\"Total number of images: {len(all_jpgs)} per camera {len(all_jpgs)//32}\")"
   ]
  },
  {
   "cell_type": "code",
   "execution_count": 46,
   "metadata": {},
   "outputs": [
    {
     "name": "stderr",
     "output_type": "stream",
     "text": [
      "100%|██████████| 6368/6368 [05:24<00:00, 19.65it/s]\n"
     ]
    }
   ],
   "source": [
    "\n",
    "for frame in tqdm(all_jpgs):\n",
    "\t# print(frame[\"file_path\"])\n",
    "\t# check if the image is present\n",
    "\t# print(os.path.exists(frame[\"file_path\"]))\n",
    "\timg = cv2.imread(frame)\n",
    "\t# print(img.shape)\n",
    "\toutputs = predictor(img)\n",
    "\n",
    "\toutput_mask = np.zeros((img.shape[0], img.shape[1]))\n",
    "\tfor i in range(len(outputs[\"instances\"])):\n",
    "\t\tif outputs[\"instances\"][i].pred_classes.cpu().numpy()[0] in mask_ids:\n",
    "\t\t\tpred_mask = outputs[\"instances\"][i].pred_masks.cpu().numpy()[0]\n",
    "\t\t\toutput_mask = np.logical_or(output_mask, pred_mask)\n",
    "\n",
    "\trgb_path = os.path.join(frame)\n",
    "\t# # print(rgb_path)\n",
    "\tmask_name = rgb_path.replace(\"ims\", \"seg\").replace(\".JPG\", \".png\")\n",
    "\t# print(mask_name)\n",
    "\t# print(output_mask.shape)\n",
    "\n",
    "\tif not os.path.exists(os.path.dirname(mask_name)):\n",
    "\t\tos.makedirs(os.path.dirname(mask_name), exist_ok=True)\n",
    "\tcv2.imwrite(mask_name, (output_mask*255).astype(np.uint8))\n",
    "\t# print(mask_name)\n",
    "\t# print(os.path.exists(mask_name))\n",
    "\n",
    "\t# break"
   ]
  },
  {
   "cell_type": "markdown",
   "metadata": {},
   "source": [
    "# Reading the output .npz file"
   ]
  },
  {
   "cell_type": "code",
   "execution_count": 65,
   "metadata": {},
   "outputs": [
    {
     "name": "stdout",
     "output_type": "stream",
     "text": [
      "means3D: (11, 355146, 3)\n",
      "rgb_colors: (11, 355146, 3)\n",
      "seg_colors: (355146, 3)\n",
      "unnorm_rotations: (11, 355146, 4)\n",
      "logit_opacities: (355146, 1)\n",
      "log_scales: (355146, 3)\n",
      "cam_m: (50, 3)\n",
      "[[ 0.04052375  0.04089984  0.03511785]\n",
      " [-0.10412157 -0.11086568 -0.11600678]\n",
      " [ 0.03189565  0.04502699  0.03034953]\n",
      " [-0.06717889 -0.07117973 -0.08319283]\n",
      " [-0.00327357  0.01511976  0.0076265 ]\n",
      " [ 0.09751539  0.09298394  0.10647158]\n",
      " [ 0.05988395  0.03975919  0.05563907]\n",
      " [ 0.00337028  0.01964025  0.00806313]\n",
      " [-0.00923424  0.01268488  0.0058958 ]\n",
      " [-0.11130295 -0.11080908 -0.11390278]\n",
      " [-0.01869849 -0.02034263 -0.01551975]\n",
      " [-0.05780772 -0.06925236 -0.06072897]\n",
      " [-0.01703494 -0.00727891 -0.01703449]\n",
      " [-0.0618599  -0.06228618 -0.06967499]\n",
      " [ 0.02166728  0.01342456  0.01806911]\n",
      " [-0.02762344 -0.01596763 -0.02078595]\n",
      " [ 0.06977711  0.07378475  0.07342494]\n",
      " [ 0.00482329  0.03206026  0.01437046]\n",
      " [-0.06484304 -0.0602063  -0.05086702]\n",
      " [-0.01094176  0.00574239 -0.00309625]\n",
      " [-0.01958307 -0.01359787 -0.03105757]\n",
      " [ 0.03879856  0.05522519  0.04081517]\n",
      " [ 0.00446327  0.02420064  0.01038058]\n",
      " [-0.05143015 -0.03266343 -0.04018358]\n",
      " [-0.00124511 -0.00820479 -0.01251591]\n",
      " [ 0.06880892  0.07516009  0.06352902]\n",
      " [ 0.00677203  0.02519674  0.0136299 ]\n",
      " [ 0.          0.          0.        ]\n",
      " [ 0.          0.          0.        ]\n",
      " [ 0.          0.          0.        ]\n",
      " [ 0.          0.          0.        ]\n",
      " [ 0.          0.          0.        ]\n",
      " [ 0.          0.          0.        ]\n",
      " [ 0.          0.          0.        ]\n",
      " [ 0.          0.          0.        ]\n",
      " [ 0.          0.          0.        ]\n",
      " [ 0.          0.          0.        ]\n",
      " [ 0.          0.          0.        ]\n",
      " [ 0.          0.          0.        ]\n",
      " [ 0.          0.          0.        ]\n",
      " [ 0.          0.          0.        ]\n",
      " [ 0.          0.          0.        ]\n",
      " [ 0.          0.          0.        ]\n",
      " [ 0.          0.          0.        ]\n",
      " [ 0.          0.          0.        ]\n",
      " [ 0.          0.          0.        ]\n",
      " [ 0.          0.          0.        ]\n",
      " [ 0.          0.          0.        ]\n",
      " [ 0.          0.          0.        ]\n",
      " [ 0.          0.          0.        ]]\n",
      "cam_c: (50, 3)\n",
      "[[ 1.3023651e-02  1.2216690e-02  9.4753299e-03]\n",
      " [-4.7699619e-02 -4.6484873e-02 -3.3240341e-02]\n",
      " [ 4.6522478e-03  1.8346211e-02  9.5177209e-03]\n",
      " [-2.2715945e-02 -2.1775888e-02 -1.1982528e-02]\n",
      " [ 1.1873618e-02  2.5734315e-02  1.5955938e-02]\n",
      " [ 4.7432352e-02  3.7836485e-02  3.3366151e-02]\n",
      " [ 4.7400787e-02  3.0307462e-02  3.1240460e-02]\n",
      " [-2.3362923e-03  9.7170668e-03  1.5298919e-03]\n",
      " [ 1.3477121e-02  2.3698987e-02  1.8676233e-02]\n",
      " [-2.2566020e-02 -1.3246842e-02 -1.1143688e-02]\n",
      " [-4.9651046e-03  5.3824391e-03  1.3924115e-03]\n",
      " [-3.5114229e-02 -3.2718338e-02 -2.6434917e-02]\n",
      " [ 1.3362716e-02  2.3168443e-02  1.2997352e-02]\n",
      " [-1.6140668e-02 -1.6626365e-02 -7.8642983e-03]\n",
      " [ 1.8322039e-03 -2.1871159e-04  3.6166096e-03]\n",
      " [-2.0286574e-03  5.2784616e-03  3.5494531e-03]\n",
      " [ 3.2650799e-02  3.1488955e-02  2.7200105e-02]\n",
      " [ 1.1682409e-02  2.1371709e-02  1.3084695e-02]\n",
      " [-1.0073976e-02 -1.5231232e-03 -1.4275152e-03]\n",
      " [ 9.3688890e-03  1.7025277e-02  8.2872119e-03]\n",
      " [ 1.1089614e-02  1.9621681e-02  6.8977131e-03]\n",
      " [ 3.3704133e-03  1.5670732e-02  1.1884579e-02]\n",
      " [ 2.0672688e-02  2.9772418e-02  2.1322921e-02]\n",
      " [ 3.0693650e-02  4.5233939e-02  3.1079266e-02]\n",
      " [-1.0820111e-02 -9.4615592e-04 -5.3677438e-03]\n",
      " [ 5.5449832e-02  5.0593715e-02  3.8619403e-02]\n",
      " [ 4.4490727e-05  1.2990945e-02  7.0567350e-03]\n",
      " [ 0.0000000e+00  0.0000000e+00  0.0000000e+00]\n",
      " [ 0.0000000e+00  0.0000000e+00  0.0000000e+00]\n",
      " [ 0.0000000e+00  0.0000000e+00  0.0000000e+00]\n",
      " [ 0.0000000e+00  0.0000000e+00  0.0000000e+00]\n",
      " [ 0.0000000e+00  0.0000000e+00  0.0000000e+00]\n",
      " [ 0.0000000e+00  0.0000000e+00  0.0000000e+00]\n",
      " [ 0.0000000e+00  0.0000000e+00  0.0000000e+00]\n",
      " [ 0.0000000e+00  0.0000000e+00  0.0000000e+00]\n",
      " [ 0.0000000e+00  0.0000000e+00  0.0000000e+00]\n",
      " [ 0.0000000e+00  0.0000000e+00  0.0000000e+00]\n",
      " [ 0.0000000e+00  0.0000000e+00  0.0000000e+00]\n",
      " [ 0.0000000e+00  0.0000000e+00  0.0000000e+00]\n",
      " [ 0.0000000e+00  0.0000000e+00  0.0000000e+00]\n",
      " [ 0.0000000e+00  0.0000000e+00  0.0000000e+00]\n",
      " [ 0.0000000e+00  0.0000000e+00  0.0000000e+00]\n",
      " [ 0.0000000e+00  0.0000000e+00  0.0000000e+00]\n",
      " [ 0.0000000e+00  0.0000000e+00  0.0000000e+00]\n",
      " [ 0.0000000e+00  0.0000000e+00  0.0000000e+00]\n",
      " [ 0.0000000e+00  0.0000000e+00  0.0000000e+00]\n",
      " [ 0.0000000e+00  0.0000000e+00  0.0000000e+00]\n",
      " [ 0.0000000e+00  0.0000000e+00  0.0000000e+00]\n",
      " [ 0.0000000e+00  0.0000000e+00  0.0000000e+00]\n",
      " [ 0.0000000e+00  0.0000000e+00  0.0000000e+00]]\n"
     ]
    }
   ],
   "source": [
    "npz_file= \"/cs/student/projects4/ml/2023/asrivast/datasets/dynamic_3DGS/output/exp3/boxes/params.npz\"\n",
    "with np.load(npz_file) as data:\n",
    "    for file in data.files:\n",
    "        print(f\"{file}: {data[file].shape}\")\n",
    "\n",
    "        if file == \"cam_m\" or file == \"cam_c\":\n",
    "            print(data[file])\n",
    "\n",
    "    "
   ]
  },
  {
   "cell_type": "markdown",
   "metadata": {},
   "source": [
    "# Move first frame to a new folder"
   ]
  },
  {
   "cell_type": "code",
   "execution_count": 22,
   "metadata": {},
   "outputs": [],
   "source": [
    "import pandas as pd\n",
    "import os, glob, re, shutil\n",
    "import PIL.ExifTags as ExifTags\n",
    "import PIL.Image as Image\n",
    "from PIL import ImageOps\n",
    "import numpy as np\n",
    "from tqdm import tqdm\n",
    "from typing import Union\n",
    "import piexif"
   ]
  },
  {
   "cell_type": "code",
   "execution_count": 27,
   "metadata": {},
   "outputs": [
    {
     "name": "stdout",
     "output_type": "stream",
     "text": [
      "31\n"
     ]
    },
    {
     "name": "stderr",
     "output_type": "stream",
     "text": [
      "100%|██████████| 31/31 [00:00<00:00, 527.43it/s]\n"
     ]
    }
   ],
   "source": [
    "all_jpgs= glob.glob(\"/cs/student/projects4/ml/2023/asrivast/datasets/dynamic_3DGS/data/basketball/ims/*/000000.jpg\")\n",
    "print(len(all_jpgs))\n",
    "\n",
    "new_folder= \"/cs/student/projects4/ml/2023/asrivast/datasets/dynamic_3DGS/data/basketball/frame_000000\"\n",
    "os.makedirs(new_folder, exist_ok=True)\n",
    "for jpg in tqdm(all_jpgs):\n",
    "    cam_num= os.path.basename(os.path.dirname(jpg))\n",
    "    frame0_file= os.path.join(new_folder, f\"cam-{cam_num}_000000.jpg\")\n",
    "    shutil.copy2(jpg, frame0_file)"
   ]
  }
 ],
 "metadata": {
  "kernelspec": {
   "display_name": "gaussian_splatting",
   "language": "python",
   "name": "python3"
  },
  "language_info": {
   "codemirror_mode": {
    "name": "ipython",
    "version": 3
   },
   "file_extension": ".py",
   "mimetype": "text/x-python",
   "name": "python",
   "nbconvert_exporter": "python",
   "pygments_lexer": "ipython3",
   "version": "3.8.18"
  }
 },
 "nbformat": 4,
 "nbformat_minor": 2
}
